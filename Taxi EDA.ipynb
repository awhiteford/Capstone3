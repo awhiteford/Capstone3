{
 "cells": [
  {
   "cell_type": "code",
   "execution_count": 6,
   "id": "62646f10",
   "metadata": {},
   "outputs": [],
   "source": [
    "import pandas as pd\n",
    "import numpy as np\n",
    "import seaborn as sns\n",
    "import matplotlib.pyplot as plt"
   ]
  },
  {
   "cell_type": "code",
   "execution_count": 7,
   "id": "e3ce2459",
   "metadata": {},
   "outputs": [],
   "source": [
    "taxi = pd.read_csv('clean_taxi.csv', index_col=False)"
   ]
  },
  {
   "cell_type": "code",
   "execution_count": 8,
   "id": "917580f7",
   "metadata": {},
   "outputs": [
    {
     "data": {
      "text/html": [
       "<div>\n",
       "<style scoped>\n",
       "    .dataframe tbody tr th:only-of-type {\n",
       "        vertical-align: middle;\n",
       "    }\n",
       "\n",
       "    .dataframe tbody tr th {\n",
       "        vertical-align: top;\n",
       "    }\n",
       "\n",
       "    .dataframe thead th {\n",
       "        text-align: right;\n",
       "    }\n",
       "</style>\n",
       "<table border=\"1\" class=\"dataframe\">\n",
       "  <thead>\n",
       "    <tr style=\"text-align: right;\">\n",
       "      <th></th>\n",
       "      <th>VendorID</th>\n",
       "      <th>lpep_pickup_datetime</th>\n",
       "      <th>lpep_dropoff_datetime</th>\n",
       "      <th>store_and_fwd_flag</th>\n",
       "      <th>RatecodeID</th>\n",
       "      <th>PULocationID</th>\n",
       "      <th>DOLocationID</th>\n",
       "      <th>passenger_count</th>\n",
       "      <th>trip_distance</th>\n",
       "      <th>fare_amount</th>\n",
       "      <th>extra</th>\n",
       "      <th>mta_tax</th>\n",
       "      <th>tip_amount</th>\n",
       "      <th>tolls_amount</th>\n",
       "      <th>improvement_surcharge</th>\n",
       "      <th>total_amount</th>\n",
       "      <th>payment_type</th>\n",
       "      <th>trip_type</th>\n",
       "      <th>congestion_surcharge</th>\n",
       "    </tr>\n",
       "  </thead>\n",
       "  <tbody>\n",
       "    <tr>\n",
       "      <th>0</th>\n",
       "      <td>1.0</td>\n",
       "      <td>2021-07-01 00:30:52</td>\n",
       "      <td>2021-07-01 00:35:36</td>\n",
       "      <td>N</td>\n",
       "      <td>1.0</td>\n",
       "      <td>74</td>\n",
       "      <td>168</td>\n",
       "      <td>1.0</td>\n",
       "      <td>1.20</td>\n",
       "      <td>6.0</td>\n",
       "      <td>0.50</td>\n",
       "      <td>0.5</td>\n",
       "      <td>0.00</td>\n",
       "      <td>0.0</td>\n",
       "      <td>0.3</td>\n",
       "      <td>7.30</td>\n",
       "      <td>2.0</td>\n",
       "      <td>1.0</td>\n",
       "      <td>0.00</td>\n",
       "    </tr>\n",
       "    <tr>\n",
       "      <th>1</th>\n",
       "      <td>2.0</td>\n",
       "      <td>2021-07-01 00:25:36</td>\n",
       "      <td>2021-07-01 01:01:31</td>\n",
       "      <td>N</td>\n",
       "      <td>1.0</td>\n",
       "      <td>116</td>\n",
       "      <td>265</td>\n",
       "      <td>2.0</td>\n",
       "      <td>13.69</td>\n",
       "      <td>42.0</td>\n",
       "      <td>0.50</td>\n",
       "      <td>0.5</td>\n",
       "      <td>0.00</td>\n",
       "      <td>0.0</td>\n",
       "      <td>0.3</td>\n",
       "      <td>43.30</td>\n",
       "      <td>2.0</td>\n",
       "      <td>1.0</td>\n",
       "      <td>0.00</td>\n",
       "    </tr>\n",
       "    <tr>\n",
       "      <th>2</th>\n",
       "      <td>2.0</td>\n",
       "      <td>2021-07-01 00:05:58</td>\n",
       "      <td>2021-07-01 00:12:00</td>\n",
       "      <td>N</td>\n",
       "      <td>1.0</td>\n",
       "      <td>97</td>\n",
       "      <td>33</td>\n",
       "      <td>1.0</td>\n",
       "      <td>0.95</td>\n",
       "      <td>6.5</td>\n",
       "      <td>0.50</td>\n",
       "      <td>0.5</td>\n",
       "      <td>2.34</td>\n",
       "      <td>0.0</td>\n",
       "      <td>0.3</td>\n",
       "      <td>10.14</td>\n",
       "      <td>1.0</td>\n",
       "      <td>1.0</td>\n",
       "      <td>0.00</td>\n",
       "    </tr>\n",
       "    <tr>\n",
       "      <th>3</th>\n",
       "      <td>2.0</td>\n",
       "      <td>2021-07-01 00:41:40</td>\n",
       "      <td>2021-07-01 00:47:23</td>\n",
       "      <td>N</td>\n",
       "      <td>1.0</td>\n",
       "      <td>74</td>\n",
       "      <td>42</td>\n",
       "      <td>1.0</td>\n",
       "      <td>1.24</td>\n",
       "      <td>6.5</td>\n",
       "      <td>0.50</td>\n",
       "      <td>0.5</td>\n",
       "      <td>0.00</td>\n",
       "      <td>0.0</td>\n",
       "      <td>0.3</td>\n",
       "      <td>7.80</td>\n",
       "      <td>2.0</td>\n",
       "      <td>1.0</td>\n",
       "      <td>0.00</td>\n",
       "    </tr>\n",
       "    <tr>\n",
       "      <th>4</th>\n",
       "      <td>2.0</td>\n",
       "      <td>2021-07-01 00:51:32</td>\n",
       "      <td>2021-07-01 00:58:46</td>\n",
       "      <td>N</td>\n",
       "      <td>1.0</td>\n",
       "      <td>42</td>\n",
       "      <td>244</td>\n",
       "      <td>1.0</td>\n",
       "      <td>1.10</td>\n",
       "      <td>7.0</td>\n",
       "      <td>0.50</td>\n",
       "      <td>0.5</td>\n",
       "      <td>0.00</td>\n",
       "      <td>0.0</td>\n",
       "      <td>0.3</td>\n",
       "      <td>8.30</td>\n",
       "      <td>2.0</td>\n",
       "      <td>1.0</td>\n",
       "      <td>0.00</td>\n",
       "    </tr>\n",
       "    <tr>\n",
       "      <th>5</th>\n",
       "      <td>1.0</td>\n",
       "      <td>2021-07-01 00:05:00</td>\n",
       "      <td>2021-07-01 00:11:50</td>\n",
       "      <td>N</td>\n",
       "      <td>1.0</td>\n",
       "      <td>24</td>\n",
       "      <td>239</td>\n",
       "      <td>1.0</td>\n",
       "      <td>1.90</td>\n",
       "      <td>8.0</td>\n",
       "      <td>3.25</td>\n",
       "      <td>0.5</td>\n",
       "      <td>3.00</td>\n",
       "      <td>0.0</td>\n",
       "      <td>0.3</td>\n",
       "      <td>15.05</td>\n",
       "      <td>1.0</td>\n",
       "      <td>1.0</td>\n",
       "      <td>2.75</td>\n",
       "    </tr>\n",
       "    <tr>\n",
       "      <th>6</th>\n",
       "      <td>2.0</td>\n",
       "      <td>2021-07-01 00:57:14</td>\n",
       "      <td>2021-07-01 01:27:43</td>\n",
       "      <td>N</td>\n",
       "      <td>1.0</td>\n",
       "      <td>75</td>\n",
       "      <td>243</td>\n",
       "      <td>1.0</td>\n",
       "      <td>0.00</td>\n",
       "      <td>17.5</td>\n",
       "      <td>0.50</td>\n",
       "      <td>0.5</td>\n",
       "      <td>0.00</td>\n",
       "      <td>0.0</td>\n",
       "      <td>0.3</td>\n",
       "      <td>18.80</td>\n",
       "      <td>2.0</td>\n",
       "      <td>1.0</td>\n",
       "      <td>0.00</td>\n",
       "    </tr>\n",
       "    <tr>\n",
       "      <th>7</th>\n",
       "      <td>2.0</td>\n",
       "      <td>2021-07-01 00:27:36</td>\n",
       "      <td>2021-07-01 00:32:35</td>\n",
       "      <td>N</td>\n",
       "      <td>1.0</td>\n",
       "      <td>82</td>\n",
       "      <td>82</td>\n",
       "      <td>1.0</td>\n",
       "      <td>0.66</td>\n",
       "      <td>5.0</td>\n",
       "      <td>0.50</td>\n",
       "      <td>0.5</td>\n",
       "      <td>0.00</td>\n",
       "      <td>0.0</td>\n",
       "      <td>0.3</td>\n",
       "      <td>6.30</td>\n",
       "      <td>2.0</td>\n",
       "      <td>1.0</td>\n",
       "      <td>0.00</td>\n",
       "    </tr>\n",
       "    <tr>\n",
       "      <th>8</th>\n",
       "      <td>2.0</td>\n",
       "      <td>2021-07-01 00:29:09</td>\n",
       "      <td>2021-07-01 00:34:18</td>\n",
       "      <td>N</td>\n",
       "      <td>1.0</td>\n",
       "      <td>74</td>\n",
       "      <td>42</td>\n",
       "      <td>1.0</td>\n",
       "      <td>1.72</td>\n",
       "      <td>7.0</td>\n",
       "      <td>0.50</td>\n",
       "      <td>0.5</td>\n",
       "      <td>2.08</td>\n",
       "      <td>0.0</td>\n",
       "      <td>0.3</td>\n",
       "      <td>10.38</td>\n",
       "      <td>1.0</td>\n",
       "      <td>1.0</td>\n",
       "      <td>0.00</td>\n",
       "    </tr>\n",
       "    <tr>\n",
       "      <th>9</th>\n",
       "      <td>2.0</td>\n",
       "      <td>2021-07-01 00:41:33</td>\n",
       "      <td>2021-07-01 00:49:24</td>\n",
       "      <td>N</td>\n",
       "      <td>1.0</td>\n",
       "      <td>41</td>\n",
       "      <td>42</td>\n",
       "      <td>1.0</td>\n",
       "      <td>1.37</td>\n",
       "      <td>7.5</td>\n",
       "      <td>0.50</td>\n",
       "      <td>0.5</td>\n",
       "      <td>0.00</td>\n",
       "      <td>0.0</td>\n",
       "      <td>0.3</td>\n",
       "      <td>8.80</td>\n",
       "      <td>2.0</td>\n",
       "      <td>1.0</td>\n",
       "      <td>0.00</td>\n",
       "    </tr>\n",
       "  </tbody>\n",
       "</table>\n",
       "</div>"
      ],
      "text/plain": [
       "   VendorID lpep_pickup_datetime lpep_dropoff_datetime store_and_fwd_flag  \\\n",
       "0       1.0  2021-07-01 00:30:52   2021-07-01 00:35:36                  N   \n",
       "1       2.0  2021-07-01 00:25:36   2021-07-01 01:01:31                  N   \n",
       "2       2.0  2021-07-01 00:05:58   2021-07-01 00:12:00                  N   \n",
       "3       2.0  2021-07-01 00:41:40   2021-07-01 00:47:23                  N   \n",
       "4       2.0  2021-07-01 00:51:32   2021-07-01 00:58:46                  N   \n",
       "5       1.0  2021-07-01 00:05:00   2021-07-01 00:11:50                  N   \n",
       "6       2.0  2021-07-01 00:57:14   2021-07-01 01:27:43                  N   \n",
       "7       2.0  2021-07-01 00:27:36   2021-07-01 00:32:35                  N   \n",
       "8       2.0  2021-07-01 00:29:09   2021-07-01 00:34:18                  N   \n",
       "9       2.0  2021-07-01 00:41:33   2021-07-01 00:49:24                  N   \n",
       "\n",
       "   RatecodeID  PULocationID  DOLocationID  passenger_count  trip_distance  \\\n",
       "0         1.0            74           168              1.0           1.20   \n",
       "1         1.0           116           265              2.0          13.69   \n",
       "2         1.0            97            33              1.0           0.95   \n",
       "3         1.0            74            42              1.0           1.24   \n",
       "4         1.0            42           244              1.0           1.10   \n",
       "5         1.0            24           239              1.0           1.90   \n",
       "6         1.0            75           243              1.0           0.00   \n",
       "7         1.0            82            82              1.0           0.66   \n",
       "8         1.0            74            42              1.0           1.72   \n",
       "9         1.0            41            42              1.0           1.37   \n",
       "\n",
       "   fare_amount  extra  mta_tax  tip_amount  tolls_amount  \\\n",
       "0          6.0   0.50      0.5        0.00           0.0   \n",
       "1         42.0   0.50      0.5        0.00           0.0   \n",
       "2          6.5   0.50      0.5        2.34           0.0   \n",
       "3          6.5   0.50      0.5        0.00           0.0   \n",
       "4          7.0   0.50      0.5        0.00           0.0   \n",
       "5          8.0   3.25      0.5        3.00           0.0   \n",
       "6         17.5   0.50      0.5        0.00           0.0   \n",
       "7          5.0   0.50      0.5        0.00           0.0   \n",
       "8          7.0   0.50      0.5        2.08           0.0   \n",
       "9          7.5   0.50      0.5        0.00           0.0   \n",
       "\n",
       "   improvement_surcharge  total_amount  payment_type  trip_type  \\\n",
       "0                    0.3          7.30           2.0        1.0   \n",
       "1                    0.3         43.30           2.0        1.0   \n",
       "2                    0.3         10.14           1.0        1.0   \n",
       "3                    0.3          7.80           2.0        1.0   \n",
       "4                    0.3          8.30           2.0        1.0   \n",
       "5                    0.3         15.05           1.0        1.0   \n",
       "6                    0.3         18.80           2.0        1.0   \n",
       "7                    0.3          6.30           2.0        1.0   \n",
       "8                    0.3         10.38           1.0        1.0   \n",
       "9                    0.3          8.80           2.0        1.0   \n",
       "\n",
       "   congestion_surcharge  \n",
       "0                  0.00  \n",
       "1                  0.00  \n",
       "2                  0.00  \n",
       "3                  0.00  \n",
       "4                  0.00  \n",
       "5                  2.75  \n",
       "6                  0.00  \n",
       "7                  0.00  \n",
       "8                  0.00  \n",
       "9                  0.00  "
      ]
     },
     "execution_count": 8,
     "metadata": {},
     "output_type": "execute_result"
    }
   ],
   "source": [
    "taxi.head(10)"
   ]
  },
  {
   "cell_type": "code",
   "execution_count": 9,
   "id": "8afbd0c9",
   "metadata": {},
   "outputs": [
    {
     "data": {
      "text/html": [
       "<div>\n",
       "<style scoped>\n",
       "    .dataframe tbody tr th:only-of-type {\n",
       "        vertical-align: middle;\n",
       "    }\n",
       "\n",
       "    .dataframe tbody tr th {\n",
       "        vertical-align: top;\n",
       "    }\n",
       "\n",
       "    .dataframe thead th {\n",
       "        text-align: right;\n",
       "    }\n",
       "</style>\n",
       "<table border=\"1\" class=\"dataframe\">\n",
       "  <thead>\n",
       "    <tr style=\"text-align: right;\">\n",
       "      <th></th>\n",
       "      <th>VendorID</th>\n",
       "      <th>RatecodeID</th>\n",
       "      <th>PULocationID</th>\n",
       "      <th>DOLocationID</th>\n",
       "      <th>passenger_count</th>\n",
       "      <th>trip_distance</th>\n",
       "      <th>fare_amount</th>\n",
       "      <th>extra</th>\n",
       "      <th>mta_tax</th>\n",
       "      <th>tip_amount</th>\n",
       "      <th>tolls_amount</th>\n",
       "      <th>improvement_surcharge</th>\n",
       "      <th>total_amount</th>\n",
       "      <th>payment_type</th>\n",
       "      <th>trip_type</th>\n",
       "      <th>congestion_surcharge</th>\n",
       "    </tr>\n",
       "  </thead>\n",
       "  <tbody>\n",
       "    <tr>\n",
       "      <th>count</th>\n",
       "      <td>51173.000000</td>\n",
       "      <td>51173.000000</td>\n",
       "      <td>51173.000000</td>\n",
       "      <td>51173.000000</td>\n",
       "      <td>51173.000000</td>\n",
       "      <td>51173.000000</td>\n",
       "      <td>51173.000000</td>\n",
       "      <td>51173.000000</td>\n",
       "      <td>51173.000000</td>\n",
       "      <td>51173.000000</td>\n",
       "      <td>51173.000000</td>\n",
       "      <td>51173.000000</td>\n",
       "      <td>51173.000000</td>\n",
       "      <td>51173.000000</td>\n",
       "      <td>51173.000000</td>\n",
       "      <td>51173.000000</td>\n",
       "    </tr>\n",
       "    <tr>\n",
       "      <th>mean</th>\n",
       "      <td>1.851113</td>\n",
       "      <td>1.159244</td>\n",
       "      <td>98.786528</td>\n",
       "      <td>135.229613</td>\n",
       "      <td>1.307858</td>\n",
       "      <td>3.494247</td>\n",
       "      <td>15.034696</td>\n",
       "      <td>0.360429</td>\n",
       "      <td>0.480243</td>\n",
       "      <td>1.379782</td>\n",
       "      <td>0.342628</td>\n",
       "      <td>0.297966</td>\n",
       "      <td>18.454531</td>\n",
       "      <td>1.421726</td>\n",
       "      <td>1.034393</td>\n",
       "      <td>0.643137</td>\n",
       "    </tr>\n",
       "    <tr>\n",
       "      <th>std</th>\n",
       "      <td>0.355981</td>\n",
       "      <td>0.773260</td>\n",
       "      <td>64.719493</td>\n",
       "      <td>77.737705</td>\n",
       "      <td>0.984362</td>\n",
       "      <td>4.620208</td>\n",
       "      <td>14.545213</td>\n",
       "      <td>0.624490</td>\n",
       "      <td>0.097407</td>\n",
       "      <td>2.604697</td>\n",
       "      <td>1.514054</td>\n",
       "      <td>0.024620</td>\n",
       "      <td>16.201376</td>\n",
       "      <td>0.511146</td>\n",
       "      <td>0.182239</td>\n",
       "      <td>1.164041</td>\n",
       "    </tr>\n",
       "    <tr>\n",
       "      <th>min</th>\n",
       "      <td>1.000000</td>\n",
       "      <td>1.000000</td>\n",
       "      <td>3.000000</td>\n",
       "      <td>1.000000</td>\n",
       "      <td>0.000000</td>\n",
       "      <td>0.000000</td>\n",
       "      <td>0.000000</td>\n",
       "      <td>0.000000</td>\n",
       "      <td>0.000000</td>\n",
       "      <td>0.000000</td>\n",
       "      <td>0.000000</td>\n",
       "      <td>0.000000</td>\n",
       "      <td>0.000000</td>\n",
       "      <td>1.000000</td>\n",
       "      <td>1.000000</td>\n",
       "      <td>0.000000</td>\n",
       "    </tr>\n",
       "    <tr>\n",
       "      <th>25%</th>\n",
       "      <td>2.000000</td>\n",
       "      <td>1.000000</td>\n",
       "      <td>52.000000</td>\n",
       "      <td>74.000000</td>\n",
       "      <td>1.000000</td>\n",
       "      <td>1.100000</td>\n",
       "      <td>7.000000</td>\n",
       "      <td>0.000000</td>\n",
       "      <td>0.500000</td>\n",
       "      <td>0.000000</td>\n",
       "      <td>0.000000</td>\n",
       "      <td>0.300000</td>\n",
       "      <td>9.300000</td>\n",
       "      <td>1.000000</td>\n",
       "      <td>1.000000</td>\n",
       "      <td>0.000000</td>\n",
       "    </tr>\n",
       "    <tr>\n",
       "      <th>50%</th>\n",
       "      <td>2.000000</td>\n",
       "      <td>1.000000</td>\n",
       "      <td>75.000000</td>\n",
       "      <td>135.000000</td>\n",
       "      <td>1.000000</td>\n",
       "      <td>1.990000</td>\n",
       "      <td>10.500000</td>\n",
       "      <td>0.000000</td>\n",
       "      <td>0.500000</td>\n",
       "      <td>0.000000</td>\n",
       "      <td>0.000000</td>\n",
       "      <td>0.300000</td>\n",
       "      <td>13.560000</td>\n",
       "      <td>1.000000</td>\n",
       "      <td>1.000000</td>\n",
       "      <td>0.000000</td>\n",
       "    </tr>\n",
       "    <tr>\n",
       "      <th>75%</th>\n",
       "      <td>2.000000</td>\n",
       "      <td>1.000000</td>\n",
       "      <td>129.000000</td>\n",
       "      <td>213.000000</td>\n",
       "      <td>1.000000</td>\n",
       "      <td>3.860000</td>\n",
       "      <td>17.000000</td>\n",
       "      <td>0.500000</td>\n",
       "      <td>0.500000</td>\n",
       "      <td>2.160000</td>\n",
       "      <td>0.000000</td>\n",
       "      <td>0.300000</td>\n",
       "      <td>21.300000</td>\n",
       "      <td>2.000000</td>\n",
       "      <td>1.000000</td>\n",
       "      <td>0.000000</td>\n",
       "    </tr>\n",
       "    <tr>\n",
       "      <th>max</th>\n",
       "      <td>2.000000</td>\n",
       "      <td>5.000000</td>\n",
       "      <td>265.000000</td>\n",
       "      <td>265.000000</td>\n",
       "      <td>32.000000</td>\n",
       "      <td>109.870000</td>\n",
       "      <td>480.000000</td>\n",
       "      <td>4.500000</td>\n",
       "      <td>0.500000</td>\n",
       "      <td>87.710000</td>\n",
       "      <td>30.050000</td>\n",
       "      <td>0.300000</td>\n",
       "      <td>480.310000</td>\n",
       "      <td>5.000000</td>\n",
       "      <td>2.000000</td>\n",
       "      <td>2.750000</td>\n",
       "    </tr>\n",
       "  </tbody>\n",
       "</table>\n",
       "</div>"
      ],
      "text/plain": [
       "           VendorID    RatecodeID  PULocationID  DOLocationID  \\\n",
       "count  51173.000000  51173.000000  51173.000000  51173.000000   \n",
       "mean       1.851113      1.159244     98.786528    135.229613   \n",
       "std        0.355981      0.773260     64.719493     77.737705   \n",
       "min        1.000000      1.000000      3.000000      1.000000   \n",
       "25%        2.000000      1.000000     52.000000     74.000000   \n",
       "50%        2.000000      1.000000     75.000000    135.000000   \n",
       "75%        2.000000      1.000000    129.000000    213.000000   \n",
       "max        2.000000      5.000000    265.000000    265.000000   \n",
       "\n",
       "       passenger_count  trip_distance   fare_amount         extra  \\\n",
       "count     51173.000000   51173.000000  51173.000000  51173.000000   \n",
       "mean          1.307858       3.494247     15.034696      0.360429   \n",
       "std           0.984362       4.620208     14.545213      0.624490   \n",
       "min           0.000000       0.000000      0.000000      0.000000   \n",
       "25%           1.000000       1.100000      7.000000      0.000000   \n",
       "50%           1.000000       1.990000     10.500000      0.000000   \n",
       "75%           1.000000       3.860000     17.000000      0.500000   \n",
       "max          32.000000     109.870000    480.000000      4.500000   \n",
       "\n",
       "            mta_tax    tip_amount  tolls_amount  improvement_surcharge  \\\n",
       "count  51173.000000  51173.000000  51173.000000           51173.000000   \n",
       "mean       0.480243      1.379782      0.342628               0.297966   \n",
       "std        0.097407      2.604697      1.514054               0.024620   \n",
       "min        0.000000      0.000000      0.000000               0.000000   \n",
       "25%        0.500000      0.000000      0.000000               0.300000   \n",
       "50%        0.500000      0.000000      0.000000               0.300000   \n",
       "75%        0.500000      2.160000      0.000000               0.300000   \n",
       "max        0.500000     87.710000     30.050000               0.300000   \n",
       "\n",
       "       total_amount  payment_type     trip_type  congestion_surcharge  \n",
       "count  51173.000000  51173.000000  51173.000000          51173.000000  \n",
       "mean      18.454531      1.421726      1.034393              0.643137  \n",
       "std       16.201376      0.511146      0.182239              1.164041  \n",
       "min        0.000000      1.000000      1.000000              0.000000  \n",
       "25%        9.300000      1.000000      1.000000              0.000000  \n",
       "50%       13.560000      1.000000      1.000000              0.000000  \n",
       "75%       21.300000      2.000000      1.000000              0.000000  \n",
       "max      480.310000      5.000000      2.000000              2.750000  "
      ]
     },
     "execution_count": 9,
     "metadata": {},
     "output_type": "execute_result"
    }
   ],
   "source": [
    "taxi.describe()"
   ]
  },
  {
   "cell_type": "code",
   "execution_count": 10,
   "id": "689b970c",
   "metadata": {},
   "outputs": [
    {
     "data": {
      "text/html": [
       "<div>\n",
       "<style scoped>\n",
       "    .dataframe tbody tr th:only-of-type {\n",
       "        vertical-align: middle;\n",
       "    }\n",
       "\n",
       "    .dataframe tbody tr th {\n",
       "        vertical-align: top;\n",
       "    }\n",
       "\n",
       "    .dataframe thead th {\n",
       "        text-align: right;\n",
       "    }\n",
       "</style>\n",
       "<table border=\"1\" class=\"dataframe\">\n",
       "  <thead>\n",
       "    <tr style=\"text-align: right;\">\n",
       "      <th></th>\n",
       "      <th>tip_amount</th>\n",
       "      <th>total_amount</th>\n",
       "    </tr>\n",
       "  </thead>\n",
       "  <tbody>\n",
       "    <tr>\n",
       "      <th>count</th>\n",
       "      <td>51173.000000</td>\n",
       "      <td>51173.000000</td>\n",
       "    </tr>\n",
       "    <tr>\n",
       "      <th>mean</th>\n",
       "      <td>1.379782</td>\n",
       "      <td>18.454531</td>\n",
       "    </tr>\n",
       "    <tr>\n",
       "      <th>std</th>\n",
       "      <td>2.604697</td>\n",
       "      <td>16.201376</td>\n",
       "    </tr>\n",
       "    <tr>\n",
       "      <th>min</th>\n",
       "      <td>0.000000</td>\n",
       "      <td>0.000000</td>\n",
       "    </tr>\n",
       "    <tr>\n",
       "      <th>25%</th>\n",
       "      <td>0.000000</td>\n",
       "      <td>9.300000</td>\n",
       "    </tr>\n",
       "    <tr>\n",
       "      <th>50%</th>\n",
       "      <td>0.000000</td>\n",
       "      <td>13.560000</td>\n",
       "    </tr>\n",
       "    <tr>\n",
       "      <th>75%</th>\n",
       "      <td>2.160000</td>\n",
       "      <td>21.300000</td>\n",
       "    </tr>\n",
       "    <tr>\n",
       "      <th>max</th>\n",
       "      <td>87.710000</td>\n",
       "      <td>480.310000</td>\n",
       "    </tr>\n",
       "  </tbody>\n",
       "</table>\n",
       "</div>"
      ],
      "text/plain": [
       "         tip_amount  total_amount\n",
       "count  51173.000000  51173.000000\n",
       "mean       1.379782     18.454531\n",
       "std        2.604697     16.201376\n",
       "min        0.000000      0.000000\n",
       "25%        0.000000      9.300000\n",
       "50%        0.000000     13.560000\n",
       "75%        2.160000     21.300000\n",
       "max       87.710000    480.310000"
      ]
     },
     "execution_count": 10,
     "metadata": {},
     "output_type": "execute_result"
    }
   ],
   "source": [
    "taxi[['tip_amount','total_amount']].describe()"
   ]
  },
  {
   "cell_type": "code",
   "execution_count": 11,
   "id": "ca3ddd9a",
   "metadata": {},
   "outputs": [
    {
     "data": {
      "text/plain": [
       "7.4766570876279665"
      ]
     },
     "execution_count": 11,
     "metadata": {},
     "output_type": "execute_result"
    }
   ],
   "source": [
    "(1.379782/18.454531)*100"
   ]
  },
  {
   "cell_type": "code",
   "execution_count": 12,
   "id": "8f7dfdbe",
   "metadata": {},
   "outputs": [
    {
     "data": {
      "text/plain": [
       "3.6909062"
      ]
     },
     "execution_count": 12,
     "metadata": {},
     "output_type": "execute_result"
    }
   ],
   "source": [
    "18.454531*0.2"
   ]
  },
  {
   "cell_type": "code",
   "execution_count": 14,
   "id": "55bd0c78",
   "metadata": {},
   "outputs": [
    {
     "data": {
      "text/html": [
       "<div>\n",
       "<style scoped>\n",
       "    .dataframe tbody tr th:only-of-type {\n",
       "        vertical-align: middle;\n",
       "    }\n",
       "\n",
       "    .dataframe tbody tr th {\n",
       "        vertical-align: top;\n",
       "    }\n",
       "\n",
       "    .dataframe thead th {\n",
       "        text-align: right;\n",
       "    }\n",
       "</style>\n",
       "<table border=\"1\" class=\"dataframe\">\n",
       "  <thead>\n",
       "    <tr style=\"text-align: right;\">\n",
       "      <th></th>\n",
       "      <th>VendorID</th>\n",
       "      <th>RatecodeID</th>\n",
       "      <th>PULocationID</th>\n",
       "      <th>DOLocationID</th>\n",
       "      <th>passenger_count</th>\n",
       "      <th>trip_distance</th>\n",
       "      <th>fare_amount</th>\n",
       "      <th>extra</th>\n",
       "      <th>mta_tax</th>\n",
       "      <th>tip_amount</th>\n",
       "      <th>tolls_amount</th>\n",
       "      <th>improvement_surcharge</th>\n",
       "      <th>total_amount</th>\n",
       "      <th>payment_type</th>\n",
       "      <th>trip_type</th>\n",
       "      <th>congestion_surcharge</th>\n",
       "    </tr>\n",
       "  </thead>\n",
       "  <tbody>\n",
       "    <tr>\n",
       "      <th>VendorID</th>\n",
       "      <td>1.000000</td>\n",
       "      <td>0.014928</td>\n",
       "      <td>-0.022324</td>\n",
       "      <td>0.006653</td>\n",
       "      <td>0.060150</td>\n",
       "      <td>0.082298</td>\n",
       "      <td>0.030275</td>\n",
       "      <td>-0.285441</td>\n",
       "      <td>-0.011004</td>\n",
       "      <td>0.034821</td>\n",
       "      <td>0.009435</td>\n",
       "      <td>0.119292</td>\n",
       "      <td>0.037198</td>\n",
       "      <td>-0.018243</td>\n",
       "      <td>0.017484</td>\n",
       "      <td>0.024750</td>\n",
       "    </tr>\n",
       "    <tr>\n",
       "      <th>RatecodeID</th>\n",
       "      <td>0.014928</td>\n",
       "      <td>1.000000</td>\n",
       "      <td>0.083519</td>\n",
       "      <td>0.039154</td>\n",
       "      <td>-0.011341</td>\n",
       "      <td>0.031996</td>\n",
       "      <td>0.092987</td>\n",
       "      <td>-0.111193</td>\n",
       "      <td>-0.938428</td>\n",
       "      <td>0.022566</td>\n",
       "      <td>0.020488</td>\n",
       "      <td>-0.250587</td>\n",
       "      <td>0.073524</td>\n",
       "      <td>0.030029</td>\n",
       "      <td>0.931866</td>\n",
       "      <td>-0.087514</td>\n",
       "    </tr>\n",
       "    <tr>\n",
       "      <th>PULocationID</th>\n",
       "      <td>-0.022324</td>\n",
       "      <td>0.083519</td>\n",
       "      <td>1.000000</td>\n",
       "      <td>0.141084</td>\n",
       "      <td>0.000230</td>\n",
       "      <td>0.124184</td>\n",
       "      <td>0.139181</td>\n",
       "      <td>0.005935</td>\n",
       "      <td>-0.093900</td>\n",
       "      <td>0.002659</td>\n",
       "      <td>0.080478</td>\n",
       "      <td>-0.068567</td>\n",
       "      <td>0.128366</td>\n",
       "      <td>0.003131</td>\n",
       "      <td>0.078166</td>\n",
       "      <td>-0.059128</td>\n",
       "    </tr>\n",
       "    <tr>\n",
       "      <th>DOLocationID</th>\n",
       "      <td>0.006653</td>\n",
       "      <td>0.039154</td>\n",
       "      <td>0.141084</td>\n",
       "      <td>1.000000</td>\n",
       "      <td>0.013385</td>\n",
       "      <td>0.050734</td>\n",
       "      <td>0.053505</td>\n",
       "      <td>0.090426</td>\n",
       "      <td>-0.040415</td>\n",
       "      <td>0.088702</td>\n",
       "      <td>-0.004708</td>\n",
       "      <td>-0.032087</td>\n",
       "      <td>0.088114</td>\n",
       "      <td>-0.093143</td>\n",
       "      <td>0.032687</td>\n",
       "      <td>0.371619</td>\n",
       "    </tr>\n",
       "    <tr>\n",
       "      <th>passenger_count</th>\n",
       "      <td>0.060150</td>\n",
       "      <td>-0.011341</td>\n",
       "      <td>0.000230</td>\n",
       "      <td>0.013385</td>\n",
       "      <td>1.000000</td>\n",
       "      <td>-0.011429</td>\n",
       "      <td>-0.022887</td>\n",
       "      <td>0.027531</td>\n",
       "      <td>0.012890</td>\n",
       "      <td>-0.000568</td>\n",
       "      <td>-0.012416</td>\n",
       "      <td>0.017617</td>\n",
       "      <td>-0.017444</td>\n",
       "      <td>0.010686</td>\n",
       "      <td>-0.007389</td>\n",
       "      <td>0.037457</td>\n",
       "    </tr>\n",
       "    <tr>\n",
       "      <th>trip_distance</th>\n",
       "      <td>0.082298</td>\n",
       "      <td>0.031996</td>\n",
       "      <td>0.124184</td>\n",
       "      <td>0.050734</td>\n",
       "      <td>-0.011429</td>\n",
       "      <td>1.000000</td>\n",
       "      <td>0.873179</td>\n",
       "      <td>0.019545</td>\n",
       "      <td>-0.003237</td>\n",
       "      <td>0.195412</td>\n",
       "      <td>0.576845</td>\n",
       "      <td>-0.057401</td>\n",
       "      <td>0.874020</td>\n",
       "      <td>-0.157594</td>\n",
       "      <td>0.006977</td>\n",
       "      <td>0.064953</td>\n",
       "    </tr>\n",
       "    <tr>\n",
       "      <th>fare_amount</th>\n",
       "      <td>0.030275</td>\n",
       "      <td>0.092987</td>\n",
       "      <td>0.139181</td>\n",
       "      <td>0.053505</td>\n",
       "      <td>-0.022887</td>\n",
       "      <td>0.873179</td>\n",
       "      <td>1.000000</td>\n",
       "      <td>-0.002910</td>\n",
       "      <td>-0.059016</td>\n",
       "      <td>0.178085</td>\n",
       "      <td>0.540313</td>\n",
       "      <td>0.071335</td>\n",
       "      <td>0.978570</td>\n",
       "      <td>-0.202509</td>\n",
       "      <td>0.061588</td>\n",
       "      <td>0.030996</td>\n",
       "    </tr>\n",
       "    <tr>\n",
       "      <th>extra</th>\n",
       "      <td>-0.285441</td>\n",
       "      <td>-0.111193</td>\n",
       "      <td>0.005935</td>\n",
       "      <td>0.090426</td>\n",
       "      <td>0.027531</td>\n",
       "      <td>0.019545</td>\n",
       "      <td>-0.002910</td>\n",
       "      <td>1.000000</td>\n",
       "      <td>0.116100</td>\n",
       "      <td>0.087643</td>\n",
       "      <td>-0.031821</td>\n",
       "      <td>0.047499</td>\n",
       "      <td>0.043184</td>\n",
       "      <td>-0.044457</td>\n",
       "      <td>-0.108755</td>\n",
       "      <td>0.244973</td>\n",
       "    </tr>\n",
       "    <tr>\n",
       "      <th>mta_tax</th>\n",
       "      <td>-0.011004</td>\n",
       "      <td>-0.938428</td>\n",
       "      <td>-0.093900</td>\n",
       "      <td>-0.040415</td>\n",
       "      <td>0.012890</td>\n",
       "      <td>-0.003237</td>\n",
       "      <td>-0.059016</td>\n",
       "      <td>0.116100</td>\n",
       "      <td>1.000000</td>\n",
       "      <td>-0.005406</td>\n",
       "      <td>-0.003927</td>\n",
       "      <td>0.396377</td>\n",
       "      <td>-0.037644</td>\n",
       "      <td>-0.023995</td>\n",
       "      <td>-0.926086</td>\n",
       "      <td>0.091209</td>\n",
       "    </tr>\n",
       "    <tr>\n",
       "      <th>tip_amount</th>\n",
       "      <td>0.034821</td>\n",
       "      <td>0.022566</td>\n",
       "      <td>0.002659</td>\n",
       "      <td>0.088702</td>\n",
       "      <td>-0.000568</td>\n",
       "      <td>0.195412</td>\n",
       "      <td>0.178085</td>\n",
       "      <td>0.087643</td>\n",
       "      <td>-0.005406</td>\n",
       "      <td>1.000000</td>\n",
       "      <td>0.096748</td>\n",
       "      <td>0.034720</td>\n",
       "      <td>0.349645</td>\n",
       "      <td>-0.436751</td>\n",
       "      <td>0.010702</td>\n",
       "      <td>0.263974</td>\n",
       "    </tr>\n",
       "    <tr>\n",
       "      <th>tolls_amount</th>\n",
       "      <td>0.009435</td>\n",
       "      <td>0.020488</td>\n",
       "      <td>0.080478</td>\n",
       "      <td>-0.004708</td>\n",
       "      <td>-0.012416</td>\n",
       "      <td>0.576845</td>\n",
       "      <td>0.540313</td>\n",
       "      <td>-0.031821</td>\n",
       "      <td>-0.003927</td>\n",
       "      <td>0.096748</td>\n",
       "      <td>1.000000</td>\n",
       "      <td>-0.037739</td>\n",
       "      <td>0.588993</td>\n",
       "      <td>-0.116026</td>\n",
       "      <td>-0.003361</td>\n",
       "      <td>-0.065653</td>\n",
       "    </tr>\n",
       "    <tr>\n",
       "      <th>improvement_surcharge</th>\n",
       "      <td>0.119292</td>\n",
       "      <td>-0.250587</td>\n",
       "      <td>-0.068567</td>\n",
       "      <td>-0.032087</td>\n",
       "      <td>0.017617</td>\n",
       "      <td>-0.057401</td>\n",
       "      <td>0.071335</td>\n",
       "      <td>0.047499</td>\n",
       "      <td>0.396377</td>\n",
       "      <td>0.034720</td>\n",
       "      <td>-0.037739</td>\n",
       "      <td>1.000000</td>\n",
       "      <td>0.074682</td>\n",
       "      <td>-0.046428</td>\n",
       "      <td>-0.250961</td>\n",
       "      <td>0.045652</td>\n",
       "    </tr>\n",
       "    <tr>\n",
       "      <th>total_amount</th>\n",
       "      <td>0.037198</td>\n",
       "      <td>0.073524</td>\n",
       "      <td>0.128366</td>\n",
       "      <td>0.088114</td>\n",
       "      <td>-0.017444</td>\n",
       "      <td>0.874020</td>\n",
       "      <td>0.978570</td>\n",
       "      <td>0.043184</td>\n",
       "      <td>-0.037644</td>\n",
       "      <td>0.349645</td>\n",
       "      <td>0.588993</td>\n",
       "      <td>0.074682</td>\n",
       "      <td>1.000000</td>\n",
       "      <td>-0.276251</td>\n",
       "      <td>0.041395</td>\n",
       "      <td>0.136487</td>\n",
       "    </tr>\n",
       "    <tr>\n",
       "      <th>payment_type</th>\n",
       "      <td>-0.018243</td>\n",
       "      <td>0.030029</td>\n",
       "      <td>0.003131</td>\n",
       "      <td>-0.093143</td>\n",
       "      <td>0.010686</td>\n",
       "      <td>-0.157594</td>\n",
       "      <td>-0.202509</td>\n",
       "      <td>-0.044457</td>\n",
       "      <td>-0.023995</td>\n",
       "      <td>-0.436751</td>\n",
       "      <td>-0.116026</td>\n",
       "      <td>-0.046428</td>\n",
       "      <td>-0.276251</td>\n",
       "      <td>1.000000</td>\n",
       "      <td>0.023027</td>\n",
       "      <td>-0.179124</td>\n",
       "    </tr>\n",
       "    <tr>\n",
       "      <th>trip_type</th>\n",
       "      <td>0.017484</td>\n",
       "      <td>0.931866</td>\n",
       "      <td>0.078166</td>\n",
       "      <td>0.032687</td>\n",
       "      <td>-0.007389</td>\n",
       "      <td>0.006977</td>\n",
       "      <td>0.061588</td>\n",
       "      <td>-0.108755</td>\n",
       "      <td>-0.926086</td>\n",
       "      <td>0.010702</td>\n",
       "      <td>-0.003361</td>\n",
       "      <td>-0.250961</td>\n",
       "      <td>0.041395</td>\n",
       "      <td>0.023027</td>\n",
       "      <td>1.000000</td>\n",
       "      <td>-0.085527</td>\n",
       "    </tr>\n",
       "    <tr>\n",
       "      <th>congestion_surcharge</th>\n",
       "      <td>0.024750</td>\n",
       "      <td>-0.087514</td>\n",
       "      <td>-0.059128</td>\n",
       "      <td>0.371619</td>\n",
       "      <td>0.037457</td>\n",
       "      <td>0.064953</td>\n",
       "      <td>0.030996</td>\n",
       "      <td>0.244973</td>\n",
       "      <td>0.091209</td>\n",
       "      <td>0.263974</td>\n",
       "      <td>-0.065653</td>\n",
       "      <td>0.045652</td>\n",
       "      <td>0.136487</td>\n",
       "      <td>-0.179124</td>\n",
       "      <td>-0.085527</td>\n",
       "      <td>1.000000</td>\n",
       "    </tr>\n",
       "  </tbody>\n",
       "</table>\n",
       "</div>"
      ],
      "text/plain": [
       "                       VendorID  RatecodeID  PULocationID  DOLocationID  \\\n",
       "VendorID               1.000000    0.014928     -0.022324      0.006653   \n",
       "RatecodeID             0.014928    1.000000      0.083519      0.039154   \n",
       "PULocationID          -0.022324    0.083519      1.000000      0.141084   \n",
       "DOLocationID           0.006653    0.039154      0.141084      1.000000   \n",
       "passenger_count        0.060150   -0.011341      0.000230      0.013385   \n",
       "trip_distance          0.082298    0.031996      0.124184      0.050734   \n",
       "fare_amount            0.030275    0.092987      0.139181      0.053505   \n",
       "extra                 -0.285441   -0.111193      0.005935      0.090426   \n",
       "mta_tax               -0.011004   -0.938428     -0.093900     -0.040415   \n",
       "tip_amount             0.034821    0.022566      0.002659      0.088702   \n",
       "tolls_amount           0.009435    0.020488      0.080478     -0.004708   \n",
       "improvement_surcharge  0.119292   -0.250587     -0.068567     -0.032087   \n",
       "total_amount           0.037198    0.073524      0.128366      0.088114   \n",
       "payment_type          -0.018243    0.030029      0.003131     -0.093143   \n",
       "trip_type              0.017484    0.931866      0.078166      0.032687   \n",
       "congestion_surcharge   0.024750   -0.087514     -0.059128      0.371619   \n",
       "\n",
       "                       passenger_count  trip_distance  fare_amount     extra  \\\n",
       "VendorID                      0.060150       0.082298     0.030275 -0.285441   \n",
       "RatecodeID                   -0.011341       0.031996     0.092987 -0.111193   \n",
       "PULocationID                  0.000230       0.124184     0.139181  0.005935   \n",
       "DOLocationID                  0.013385       0.050734     0.053505  0.090426   \n",
       "passenger_count               1.000000      -0.011429    -0.022887  0.027531   \n",
       "trip_distance                -0.011429       1.000000     0.873179  0.019545   \n",
       "fare_amount                  -0.022887       0.873179     1.000000 -0.002910   \n",
       "extra                         0.027531       0.019545    -0.002910  1.000000   \n",
       "mta_tax                       0.012890      -0.003237    -0.059016  0.116100   \n",
       "tip_amount                   -0.000568       0.195412     0.178085  0.087643   \n",
       "tolls_amount                 -0.012416       0.576845     0.540313 -0.031821   \n",
       "improvement_surcharge         0.017617      -0.057401     0.071335  0.047499   \n",
       "total_amount                 -0.017444       0.874020     0.978570  0.043184   \n",
       "payment_type                  0.010686      -0.157594    -0.202509 -0.044457   \n",
       "trip_type                    -0.007389       0.006977     0.061588 -0.108755   \n",
       "congestion_surcharge          0.037457       0.064953     0.030996  0.244973   \n",
       "\n",
       "                        mta_tax  tip_amount  tolls_amount  \\\n",
       "VendorID              -0.011004    0.034821      0.009435   \n",
       "RatecodeID            -0.938428    0.022566      0.020488   \n",
       "PULocationID          -0.093900    0.002659      0.080478   \n",
       "DOLocationID          -0.040415    0.088702     -0.004708   \n",
       "passenger_count        0.012890   -0.000568     -0.012416   \n",
       "trip_distance         -0.003237    0.195412      0.576845   \n",
       "fare_amount           -0.059016    0.178085      0.540313   \n",
       "extra                  0.116100    0.087643     -0.031821   \n",
       "mta_tax                1.000000   -0.005406     -0.003927   \n",
       "tip_amount            -0.005406    1.000000      0.096748   \n",
       "tolls_amount          -0.003927    0.096748      1.000000   \n",
       "improvement_surcharge  0.396377    0.034720     -0.037739   \n",
       "total_amount          -0.037644    0.349645      0.588993   \n",
       "payment_type          -0.023995   -0.436751     -0.116026   \n",
       "trip_type             -0.926086    0.010702     -0.003361   \n",
       "congestion_surcharge   0.091209    0.263974     -0.065653   \n",
       "\n",
       "                       improvement_surcharge  total_amount  payment_type  \\\n",
       "VendorID                            0.119292      0.037198     -0.018243   \n",
       "RatecodeID                         -0.250587      0.073524      0.030029   \n",
       "PULocationID                       -0.068567      0.128366      0.003131   \n",
       "DOLocationID                       -0.032087      0.088114     -0.093143   \n",
       "passenger_count                     0.017617     -0.017444      0.010686   \n",
       "trip_distance                      -0.057401      0.874020     -0.157594   \n",
       "fare_amount                         0.071335      0.978570     -0.202509   \n",
       "extra                               0.047499      0.043184     -0.044457   \n",
       "mta_tax                             0.396377     -0.037644     -0.023995   \n",
       "tip_amount                          0.034720      0.349645     -0.436751   \n",
       "tolls_amount                       -0.037739      0.588993     -0.116026   \n",
       "improvement_surcharge               1.000000      0.074682     -0.046428   \n",
       "total_amount                        0.074682      1.000000     -0.276251   \n",
       "payment_type                       -0.046428     -0.276251      1.000000   \n",
       "trip_type                          -0.250961      0.041395      0.023027   \n",
       "congestion_surcharge                0.045652      0.136487     -0.179124   \n",
       "\n",
       "                       trip_type  congestion_surcharge  \n",
       "VendorID                0.017484              0.024750  \n",
       "RatecodeID              0.931866             -0.087514  \n",
       "PULocationID            0.078166             -0.059128  \n",
       "DOLocationID            0.032687              0.371619  \n",
       "passenger_count        -0.007389              0.037457  \n",
       "trip_distance           0.006977              0.064953  \n",
       "fare_amount             0.061588              0.030996  \n",
       "extra                  -0.108755              0.244973  \n",
       "mta_tax                -0.926086              0.091209  \n",
       "tip_amount              0.010702              0.263974  \n",
       "tolls_amount           -0.003361             -0.065653  \n",
       "improvement_surcharge  -0.250961              0.045652  \n",
       "total_amount            0.041395              0.136487  \n",
       "payment_type            0.023027             -0.179124  \n",
       "trip_type               1.000000             -0.085527  \n",
       "congestion_surcharge   -0.085527              1.000000  "
      ]
     },
     "execution_count": 14,
     "metadata": {},
     "output_type": "execute_result"
    }
   ],
   "source": [
    "taxi.corr()"
   ]
  },
  {
   "cell_type": "code",
   "execution_count": 15,
   "id": "84d4d183",
   "metadata": {},
   "outputs": [
    {
     "data": {
      "text/plain": [
       "1.0    49413\n",
       "2.0     1760\n",
       "Name: trip_type, dtype: int64"
      ]
     },
     "execution_count": 15,
     "metadata": {},
     "output_type": "execute_result"
    }
   ],
   "source": [
    "taxi['trip_type'].value_counts()"
   ]
  },
  {
   "cell_type": "code",
   "execution_count": 16,
   "id": "9884dd98",
   "metadata": {},
   "outputs": [
    {
     "data": {
      "text/plain": [
       "1.0    48994\n",
       "5.0     1954\n",
       "2.0      158\n",
       "4.0       41\n",
       "3.0       26\n",
       "Name: RatecodeID, dtype: int64"
      ]
     },
     "execution_count": 16,
     "metadata": {},
     "output_type": "execute_result"
    }
   ],
   "source": [
    "taxi['RatecodeID'].value_counts()"
   ]
  },
  {
   "cell_type": "raw",
   "id": "8102c7e2",
   "metadata": {},
   "source": [
    "Noteable correlations:\n",
    "- RatecodeID & mta_tax = -0.938428\n",
    "- total_amount & trip_distance = 0.874020\n",
    "- total_amount & fare_amount = 0.978570\n",
    "- trip_distance & fare_amount = 0.873179\n",
    "- mta_tax & trip_type = -0.926086\n",
    "- payment_type & tip_amount = -0.436751\n",
    "- tolls_amount & trip_distance = 0.576845\n",
    "- tolls_amount & fare_amount = 0.540313\n",
    "- tolls_amount & total_amount = 0.588993\n",
    "- improvement_surcharge & mta_tax = 0.396377\n",
    "- improvement_surcharge & trip_type = -0.250961\t\n",
    "- payment_type & total_amount = -0.276251\n",
    "- congestion_surcharge & extra = 0.244973\n",
    "- congestion_surcharge & tip_amount = 0.263974"
   ]
  },
  {
   "cell_type": "code",
   "execution_count": 20,
   "id": "6a7feeda",
   "metadata": {},
   "outputs": [
    {
     "name": "stdout",
     "output_type": "stream",
     "text": [
      "<class 'pandas.core.frame.DataFrame'>\n",
      "RangeIndex: 51173 entries, 0 to 51172\n",
      "Data columns (total 19 columns):\n",
      " #   Column                 Non-Null Count  Dtype  \n",
      "---  ------                 --------------  -----  \n",
      " 0   VendorID               51173 non-null  float64\n",
      " 1   lpep_pickup_datetime   51173 non-null  object \n",
      " 2   lpep_dropoff_datetime  51173 non-null  object \n",
      " 3   store_and_fwd_flag     51173 non-null  object \n",
      " 4   RatecodeID             51173 non-null  float64\n",
      " 5   PULocationID           51173 non-null  int64  \n",
      " 6   DOLocationID           51173 non-null  int64  \n",
      " 7   passenger_count        51173 non-null  float64\n",
      " 8   trip_distance          51173 non-null  float64\n",
      " 9   fare_amount            51173 non-null  float64\n",
      " 10  extra                  51173 non-null  float64\n",
      " 11  mta_tax                51173 non-null  float64\n",
      " 12  tip_amount             51173 non-null  float64\n",
      " 13  tolls_amount           51173 non-null  float64\n",
      " 14  improvement_surcharge  51173 non-null  float64\n",
      " 15  total_amount           51173 non-null  float64\n",
      " 16  payment_type           51173 non-null  float64\n",
      " 17  trip_type              51173 non-null  float64\n",
      " 18  congestion_surcharge   51173 non-null  float64\n",
      "dtypes: float64(14), int64(2), object(3)\n",
      "memory usage: 7.4+ MB\n"
     ]
    }
   ],
   "source": [
    "taxi.info()"
   ]
  },
  {
   "cell_type": "code",
   "execution_count": 22,
   "id": "a3a3801c",
   "metadata": {},
   "outputs": [
    {
     "data": {
      "image/png": "[encoded data removed]",
      "text/plain": [
       "<Figure size 432x288 with 1 Axes>"
      ]
     },
     "metadata": {
      "needs_background": "light"
     },
     "output_type": "display_data"
    }
   ],
   "source": [
    "fig, ax = plt.subplots()\n",
    "sns.histplot(taxi['fare_amount'], ax=ax)\n",
    "ax.set_xlim(0,100)\n",
    "plt.show()"
   ]
  },
  {
   "cell_type": "code",
   "execution_count": 25,
   "id": "fa3e7396",
   "metadata": {},
   "outputs": [
    {
     "data": {
      "text/plain": [
       "<AxesSubplot:xlabel='RatecodeID', ylabel='Count'>"
      ]
     },
     "execution_count": 25,
     "metadata": {},
     "output_type": "execute_result"
    },
    {
     "data": {
      "image/png": "[encoded data removed]",
      "text/plain": [
       "<Figure size 432x288 with 1 Axes>"
      ]
     },
     "metadata": {
      "needs_background": "light"
     },
     "output_type": "display_data"
    }
   ],
   "source": [
    "sns.histplot(x='RatecodeID', data=taxi)"
   ]
  },
  {
   "cell_type": "code",
   "execution_count": 26,
   "id": "9543729c",
   "metadata": {},
   "outputs": [
    {
     "data": {
      "text/plain": [
       "<AxesSubplot:xlabel='payment_type', ylabel='Count'>"
      ]
     },
     "execution_count": 26,
     "metadata": {},
     "output_type": "execute_result"
    },
    {
     "data": {
      "image/png": "[encoded data removed]",
      "text/plain": [
       "<Figure size 432x288 with 1 Axes>"
      ]
     },
     "metadata": {
      "needs_background": "light"
     },
     "output_type": "display_data"
    }
   ],
   "source": [
    "sns.histplot(x='payment_type', data=taxi)"
   ]
  },
  {
   "cell_type": "code",
   "execution_count": 27,
   "id": "ee8b6960",
   "metadata": {},
   "outputs": [
    {
     "data": {
      "text/plain": [
       "<AxesSubplot:xlabel='tip_amount', ylabel='Count'>"
      ]
     },
     "execution_count": 27,
     "metadata": {},
     "output_type": "execute_result"
    },
    {
     "data": {
      "image/png": "[encoded data removed]",
      "text/plain": [
       "<Figure size 432x288 with 1 Axes>"
      ]
     },
     "metadata": {
      "needs_background": "light"
     },
     "output_type": "display_data"
    }
   ],
   "source": [
    "sns.histplot(x='tip_amount', data=taxi)"
   ]
  },
  {
   "cell_type": "code",
   "execution_count": 31,
   "id": "740bff09",
   "metadata": {},
   "outputs": [
    {
     "data": {
      "text/plain": [
       "<AxesSubplot:xlabel='trip_distance', ylabel='fare_amount'>"
      ]
     },
     "execution_count": 31,
     "metadata": {},
     "output_type": "execute_result"
    },
    {
     "data": {
      "image/png": "[encoded data removed]",
      "text/plain": [
       "<Figure size 432x288 with 1 Axes>"
      ]
     },
     "metadata": {
      "needs_background": "light"
     },
     "output_type": "display_data"
    }
   ],
   "source": [
    "sns.scatterplot(x='trip_distance', y='fare_amount', data=taxi)"
   ]
  },
  {
   "cell_type": "code",
   "execution_count": 29,
   "id": "74591eee",
   "metadata": {},
   "outputs": [
    {
     "data": {
      "text/plain": [
       "<AxesSubplot:>"
      ]
     },
     "execution_count": 29,
     "metadata": {},
     "output_type": "execute_result"
    },
    {
     "data": {
      "image/png": "[encoded data removed]",
      "text/plain": [
       "<Figure size 432x288 with 2 Axes>"
      ]
     },
     "metadata": {
      "needs_background": "light"
     },
     "output_type": "display_data"
    }
   ],
   "source": [
    "sns.heatmap(taxi.corr())"
   ]
  },
  {
   "cell_type": "code",
   "execution_count": 36,
   "id": "21a3dd06",
   "metadata": {
    "scrolled": true
   },
   "outputs": [
    {
     "data": {
      "text/plain": [
       "<AxesSubplot:xlabel='passenger_count', ylabel='fare_amount'>"
      ]
     },
     "execution_count": 36,
     "metadata": {},
     "output_type": "execute_result"
    },
    {
     "data": {
      "image/png": "[encoded data removed]",
      "text/plain": [
       "<Figure size 432x288 with 1 Axes>"
      ]
     },
     "metadata": {
      "needs_background": "light"
     },
     "output_type": "display_data"
    }
   ],
   "source": [
    "sns.scatterplot(x='passenger_count', y='fare_amount', data=taxi)"
   ]
  },
  {
   "cell_type": "code",
   "execution_count": 38,
   "id": "3fdcc708",
   "metadata": {},
   "outputs": [
    {
     "data": {
      "text/plain": [
       "<AxesSubplot:xlabel='fare_amount'>"
      ]
     },
     "execution_count": 38,
     "metadata": {},
     "output_type": "execute_result"
    },
    {
     "data": {
      "image/png": "[encoded data removed]",
      "text/plain": [
       "<Figure size 432x288 with 1 Axes>"
      ]
     },
     "metadata": {
      "needs_background": "light"
     },
     "output_type": "display_data"
    }
   ],
   "source": [
    "sns.boxplot(x='fare_amount', data=taxi)"
   ]
  },
  {
   "cell_type": "markdown",
   "id": "e57df1a2",
   "metadata": {},
   "source": [
    "'fare_amount' = The time-and-distance fare in dollars calculated by the meter"
   ]
  },
  {
   "cell_type": "code",
   "execution_count": 44,
   "id": "15dd49c7",
   "metadata": {},
   "outputs": [
    {
     "data": {
      "text/plain": [
       "<AxesSubplot:xlabel='payment_type', ylabel='count'>"
      ]
     },
     "execution_count": 44,
     "metadata": {},
     "output_type": "execute_result"
    },
    {
     "data": {
      "image/png": "[encoded data removed]",
      "text/plain": [
       "<Figure size 432x288 with 1 Axes>"
      ]
     },
     "metadata": {
      "needs_background": "light"
     },
     "output_type": "display_data"
    }
   ],
   "source": [
    "sns.countplot(x='payment_type', data=taxi)"
   ]
  },
  {
   "cell_type": "markdown",
   "id": "40b00b32",
   "metadata": {},
   "source": [
    "1=Credit card, \n",
    "2=Cash,\n",
    "3=No charge, \n",
    "4=Dispute, \n",
    "5=Unknown"
   ]
  },
  {
   "cell_type": "code",
   "execution_count": 45,
   "id": "478c8cbc",
   "metadata": {},
   "outputs": [
    {
     "data": {
      "text/plain": [
       "<AxesSubplot:xlabel='RatecodeID', ylabel='count'>"
      ]
     },
     "execution_count": 45,
     "metadata": {},
     "output_type": "execute_result"
    },
    {
     "data": {
      "image/png": "[encoded data removed]",
      "text/plain": [
       "<Figure size 432x288 with 1 Axes>"
      ]
     },
     "metadata": {
      "needs_background": "light"
     },
     "output_type": "display_data"
    }
   ],
   "source": [
    "sns.countplot(x='RatecodeID', data=taxi)"
   ]
  },
  {
   "cell_type": "markdown",
   "id": "a158405c",
   "metadata": {},
   "source": [
    "1=Standard rate, 2=JFK, 3=Newark, 4=Nassau or Westchester, 5=Negotiated fare"
   ]
  },
  {
   "cell_type": "code",
   "execution_count": 47,
   "id": "b9a05f2d",
   "metadata": {},
   "outputs": [
    {
     "data": {
      "text/plain": [
       "<AxesSubplot:xlabel='mta_tax', ylabel='count'>"
      ]
     },
     "execution_count": 47,
     "metadata": {},
     "output_type": "execute_result"
    },
    {
     "data": {
      "image/png": "[encoded data removed]",
      "text/plain": [
       "<Figure size 432x288 with 1 Axes>"
      ]
     },
     "metadata": {
      "needs_background": "light"
     },
     "output_type": "display_data"
    }
   ],
   "source": [
    "sns.countplot(x='mta_tax', data=taxi)"
   ]
  },
  {
   "cell_type": "markdown",
   "id": "735272ff",
   "metadata": {},
   "source": [
    "The taxicab and hail vehicle trip tax in the Metropolitan Commuter Transportation District is a tax of $0.50 \n",
    "per taxicab and hail vehicle trip that:\n",
    "\n",
    "    1.) Starts and ends in New York City (meaning New York (Manhattan), Kings (Brooklyn), Queens, Richmond \n",
    "        (Staten Island), and Bronx counties); or \n",
    "    2.) Starts in New York City and ends in any of the following counties: \n",
    "        Dutchess, Nassau, Orange, Putnam, Rockland, Suffolk, and Westchester.\n",
    "        \n",
    "Therefore, nearly every trip is charged this tax."
   ]
  },
  {
   "cell_type": "code",
   "execution_count": 48,
   "id": "857aac73",
   "metadata": {},
   "outputs": [
    {
     "data": {
      "text/plain": [
       "<AxesSubplot:xlabel='VendorID', ylabel='count'>"
      ]
     },
     "execution_count": 48,
     "metadata": {},
     "output_type": "execute_result"
    },
    {
     "data": {
      "image/png": "[encoded data removed]",
      "text/plain": [
       "<Figure size 432x288 with 1 Axes>"
      ]
     },
     "metadata": {
      "needs_background": "light"
     },
     "output_type": "display_data"
    }
   ],
   "source": [
    "sns.countplot(x='VendorID', data=taxi)"
   ]
  },
  {
   "cell_type": "markdown",
   "id": "2f4e662f",
   "metadata": {},
   "source": [
    "VendorID: A code indicating the TPEP (Taxicab Passenger Enhancement Program) provider that provided the record.\n",
    "\n",
    "1= Creative Mobile Technologies, LLC; 2= VeriFone Inc."
   ]
  },
  {
   "cell_type": "code",
   "execution_count": 49,
   "id": "6d7f9eef",
   "metadata": {},
   "outputs": [
    {
     "data": {
      "text/plain": [
       "<AxesSubplot:xlabel='congestion_surcharge', ylabel='count'>"
      ]
     },
     "execution_count": 49,
     "metadata": {},
     "output_type": "execute_result"
    },
    {
     "data": {
      "image/png": "[encoded data removed]",
      "text/plain": [
       "<Figure size 432x288 with 1 Axes>"
      ]
     },
     "metadata": {
      "needs_background": "light"
     },
     "output_type": "display_data"
    }
   ],
   "source": [
    "sns.countplot(x='congestion_surcharge', data=taxi)"
   ]
  },
  {
   "cell_type": "code",
   "execution_count": 51,
   "id": "e70833d3",
   "metadata": {},
   "outputs": [
    {
     "data": {
      "text/plain": [
       "<AxesSubplot:xlabel='extra', ylabel='count'>"
      ]
     },
     "execution_count": 51,
     "metadata": {},
     "output_type": "execute_result"
    },
    {
     "data": {
      "image/png": "[encoded data removed]",
      "text/plain": [
       "<Figure size 432x288 with 1 Axes>"
      ]
     },
     "metadata": {
      "needs_background": "light"
     },
     "output_type": "display_data"
    }
   ],
   "source": [
    "sns.countplot(x='extra', data=taxi)"
   ]
  },
  {
   "cell_type": "markdown",
   "id": "4d2b2c1a",
   "metadata": {},
   "source": [
    "extra = aditional charges"
   ]
  },
  {
   "cell_type": "code",
   "execution_count": 57,
   "id": "25c086b5",
   "metadata": {},
   "outputs": [
    {
     "data": {
      "text/plain": [
       "<AxesSubplot:xlabel='tip_amount', ylabel='passenger_count'>"
      ]
     },
     "execution_count": 57,
     "metadata": {},
     "output_type": "execute_result"
    },
    {
     "data": {
      "image/png": "[encoded data removed]",
      "text/plain": [
       "<Figure size 432x288 with 1 Axes>"
      ]
     },
     "metadata": {
      "needs_background": "light"
     },
     "output_type": "display_data"
    }
   ],
   "source": [
    "sns.scatterplot(x='tip_amount', y='passenger_count', data=taxi)"
   ]
  },
  {
   "cell_type": "code",
   "execution_count": 59,
   "id": "13e8485b",
   "metadata": {},
   "outputs": [
    {
     "data": {
      "text/plain": [
       "<AxesSubplot:xlabel='trip_distance', ylabel='fare_amount'>"
      ]
     },
     "execution_count": 59,
     "metadata": {},
     "output_type": "execute_result"
    },
    {
     "data": {
      "image/png": "[encoded data removed]",
      "text/plain": [
       "<Figure size 432x288 with 1 Axes>"
      ]
     },
     "metadata": {
      "needs_background": "light"
     },
     "output_type": "display_data"
    }
   ],
   "source": [
    "sns.regplot(x='trip_distance', y='fare_amount', data=taxi)"
   ]
  },
  {
   "cell_type": "code",
   "execution_count": 60,
   "id": "97f754b5",
   "metadata": {},
   "outputs": [
    {
     "data": {
      "text/plain": [
       "<AxesSubplot:xlabel='trip_distance', ylabel='total_amount'>"
      ]
     },
     "execution_count": 60,
     "metadata": {},
     "output_type": "execute_result"
    },
    {
     "data": {
      "image/png": "[encoded data removed]",
      "text/plain": [
       "<Figure size 432x288 with 1 Axes>"
      ]
     },
     "metadata": {
      "needs_background": "light"
     },
     "output_type": "display_data"
    }
   ],
   "source": [
    "sns.regplot(x='trip_distance', y='total_amount', data=taxi)"
   ]
  },
  {
   "cell_type": "code",
   "execution_count": null,
   "id": "00afd7e0",
   "metadata": {},
   "outputs": [],
   "source": []
  }
 ],
 "metadata": {
  "kernelspec": {
   "display_name": "Python 3 (ipykernel)",
   "language": "python",
   "name": "python3"
  },
  "language_info": {
   "codemirror_mode": {
    "name": "ipython",
    "version": 3
   },
   "file_extension": ".py",
   "mimetype": "text/x-python",
   "name": "python",
   "nbconvert_exporter": "python",
   "pygments_lexer": "ipython3",
   "version": "3.9.12"
  }
 },
 "nbformat": 4,
 "nbformat_minor": 5
}
